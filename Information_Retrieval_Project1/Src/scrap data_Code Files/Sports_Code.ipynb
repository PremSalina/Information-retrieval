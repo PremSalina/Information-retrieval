{
  "nbformat": 4,
  "nbformat_minor": 0,
  "metadata": {
    "colab": {
      "provenance": []
    },
    "kernelspec": {
      "name": "python3",
      "display_name": "Python 3"
    },
    "language_info": {
      "name": "python"
    }
  },
  "cells": [
    {
      "cell_type": "code",
      "execution_count": 1,
      "metadata": {
        "colab": {
          "base_uri": "https://localhost:8080/"
        },
        "id": "Vf92eyjJLUyO",
        "outputId": "37da67fd-1a30-40ec-fe55-59e2cc863886"
      },
      "outputs": [
        {
          "output_type": "stream",
          "name": "stdout",
          "text": [
            "Collecting wikipedia\n",
            "  Downloading wikipedia-1.4.0.tar.gz (27 kB)\n",
            "  Preparing metadata (setup.py) ... \u001b[?25l\u001b[?25hdone\n",
            "Requirement already satisfied: beautifulsoup4 in /usr/local/lib/python3.10/dist-packages (from wikipedia) (4.11.2)\n",
            "Requirement already satisfied: requests<3.0.0,>=2.0.0 in /usr/local/lib/python3.10/dist-packages (from wikipedia) (2.31.0)\n",
            "Requirement already satisfied: charset-normalizer<4,>=2 in /usr/local/lib/python3.10/dist-packages (from requests<3.0.0,>=2.0.0->wikipedia) (3.2.0)\n",
            "Requirement already satisfied: idna<4,>=2.5 in /usr/local/lib/python3.10/dist-packages (from requests<3.0.0,>=2.0.0->wikipedia) (3.4)\n",
            "Requirement already satisfied: urllib3<3,>=1.21.1 in /usr/local/lib/python3.10/dist-packages (from requests<3.0.0,>=2.0.0->wikipedia) (2.0.4)\n",
            "Requirement already satisfied: certifi>=2017.4.17 in /usr/local/lib/python3.10/dist-packages (from requests<3.0.0,>=2.0.0->wikipedia) (2023.7.22)\n",
            "Requirement already satisfied: soupsieve>1.2 in /usr/local/lib/python3.10/dist-packages (from beautifulsoup4->wikipedia) (2.5)\n",
            "Building wheels for collected packages: wikipedia\n",
            "  Building wheel for wikipedia (setup.py) ... \u001b[?25l\u001b[?25hdone\n",
            "  Created wheel for wikipedia: filename=wikipedia-1.4.0-py3-none-any.whl size=11678 sha256=bfa8f3062fe4432202576f944b05bd1e37eb5533c3b1fd0fda27611fede39049\n",
            "  Stored in directory: /root/.cache/pip/wheels/5e/b6/c5/93f3dec388ae76edc830cb42901bb0232504dfc0df02fc50de\n",
            "Successfully built wikipedia\n",
            "Installing collected packages: wikipedia\n",
            "Successfully installed wikipedia-1.4.0\n"
          ]
        }
      ],
      "source": [
        "!pip install wikipedia"
      ]
    },
    {
      "cell_type": "code",
      "source": [
        "import wikipedia\n",
        "import json\n",
        "\n",
        "wikipedia.set_lang(\"en\")\n",
        "\n",
        "def scrape_data_sports(target_documents=510):\n",
        "    documents = []\n",
        "\n",
        "    # Define a list of sports-related keywords\n",
        "    sports_keywords = [\"Sports\", \"Major sporting events\", \"Sports analytics\", \"Athletics\",\n",
        "                      \"Team sports\", \"Individual sports\", \"Sports competitions\", \"Olympic Games\",\n",
        "                      \"Sports statistics\", \"Sports data analysis\", \"Sports technology\",\n",
        "                      \"Sports science\", \"Sports training\", \"Sports history\", \"Sports news\",\n",
        "                      \"Sports broadcasting\", \"Sports journalism\", \"Sports organizations\",\n",
        "                      \"Sports leagues\", \"Sports awards\"]\n",
        "\n",
        "    for keyword in sports_keywords:\n",
        "        search_results = wikipedia.search(keyword, results=target_documents)\n",
        "\n",
        "        for title in search_results:\n",
        "            try:\n",
        "                content = wikipedia.page(title, auto_suggest=False)\n",
        "                if len(documents) >= target_documents:\n",
        "                    break\n",
        "\n",
        "                if any(kw in content.summary.lower() for kw in sports_keywords) and len(content.summary) >= 200:\n",
        "                    document_info = {\n",
        "                        'topic': \"Sports\",\n",
        "                        'title': content.title,\n",
        "                        'revision_id': content.revision_id,\n",
        "                        'summary': content.summary,\n",
        "                        'url': content.url,\n",
        "                    }\n",
        "                    documents.append(document_info)\n",
        "\n",
        "                    if len(documents) >= target_documents:\n",
        "                        break\n",
        "\n",
        "            except Exception as e:\n",
        "                print(f\"An error occurred: {e}\")\n",
        "\n",
        "        if len(documents) >= target_documents:\n",
        "            break\n",
        "\n",
        "    return documents\n",
        "\n",
        "# Scrape sports-related data\n",
        "sports_doc_list = scrape_data_sports(target_documents=600)\n",
        "\n",
        "# Save the scraped data to a JSON file\n",
        "json_filename = \"sports_scraped_data.json\"\n",
        "\n",
        "with open(json_filename, 'w') as json_file:\n",
        "    json.dump(sports_doc_list, json_file, indent=5)\n",
        "\n",
        "print(f\"Scraped {len(sports_doc_list)} documents related to sports and saved them to '{json_filename}'\")"
      ],
      "metadata": {
        "colab": {
          "base_uri": "https://localhost:8080/"
        },
        "id": "HhcB6YZBL8ab",
        "outputId": "86aaf0b1-feaa-407d-d285-dde6c10e3996"
      },
      "execution_count": null,
      "outputs": [
        {
          "output_type": "stream",
          "name": "stderr",
          "text": [
            "/usr/local/lib/python3.10/dist-packages/wikipedia/wikipedia.py:389: GuessedAtParserWarning: No parser was explicitly specified, so I'm using the best available HTML parser for this system (\"lxml\"). This usually isn't a problem, but if you run this code on another system, or in a different virtual environment, it may use a different parser and behave differently.\n",
            "\n",
            "The code that caused this warning is on line 389 of the file /usr/local/lib/python3.10/dist-packages/wikipedia/wikipedia.py. To get rid of this warning, pass the additional argument 'features=\"lxml\"' to the BeautifulSoup constructor.\n",
            "\n",
            "  lis = BeautifulSoup(html).find_all('li')\n"
          ]
        },
        {
          "output_type": "stream",
          "name": "stdout",
          "text": [
            "An error occurred: \"Star Sports\" may refer to: \n",
            "Star Sports (East Asian TV channel)\n",
            "Star Sports (Indian TV network)\n",
            "Fox Sports (Southeast Asian TV network)\n",
            "An error occurred: \"Olympic Sports Complex\" may refer to: \n",
            "Athens Olympic Sports Complex\n",
            "Lake Placid Olympic Sports Complex\n",
            "An error occurred: \"TNT Sports\" may refer to: \n",
            "TNT Sports (Argentine TV channel)\n",
            "TNT Sports (Brazil)\n",
            "TNT Sports (Chilean TV channel)\n",
            "TNT Sports (United Kingdom)\n",
            "TNT (American TV network)#Sports programming\n",
            "Warner Bros. Discovery Sports\n",
            "An error occurred: \"Total Sports\" may refer to: \n",
            "Total Sports Publishing\n",
            "Total Sports Entertainment\n",
            "Total Sports TV\n",
            "Total Sports Network\n",
            "An error occurred: \"Sports City\" may refer to: \n",
            "\n",
            "An error occurred: \"Disney Sports Enterprises\" may refer to: \n",
            "Anaheim Sports\n",
            "Walt Disney Parks, Experiences and Consumer Products#Disney Sports Enterprises\n",
            "An error occurred: \"Titan Sports\" may refer to: \n",
            "Titan Sports, Inc.\n",
            "Titan Sports (newspaper)\n",
            "Titan Sports Media Group\n",
            "An error occurred: \"Wide World of Sports\" may refer to: \n",
            "Wide World of Sports (Australian TV program)\n",
            "Wide World of Sports (American TV program)\n",
            "Nine's Wide World of Sports\n",
            "ESPN Wide World of Sports Complex\n",
            "Disney's Wide World of Sports Spirit Award\n",
            "World of Sport (disambiguation)\n",
            "An error occurred: \"Fox Sports World\" may refer to: \n",
            "Fox Soccer\n",
            "Fox Sports World (Canada)\n",
            "An error occurred: \"National Sports Centre\" may refer to: \n",
            "National Sports Centres\n",
            "National Sports Centre\n",
            "National Sports Centre\n",
            "National Sports Centre\n",
            "Crystal Palace National Sports Centre\n",
            "National Olympic Sports Centre\n",
            "National Sports Campus\n",
            "National Sports Centre Papendal\n",
            "National Sports Center\n",
            "National Sports Stadium (disambiguation)\n",
            "An error occurred: \"Palais des Sports\" may refer to: \n",
            "Palais des Sports de Beaulieu\n",
            "Palais des sports Ghani-Yalouz, Besançon\n",
            "Palais des Sports Jean-Michel Geoffroy, Dijon\n",
            "Palais des Sports de Beaublanc\n",
            "Palais des Sports de Gerland\n",
            "Palais des Sports, Grenoble\n",
            "Palais des Sports de Marseille\n",
            "Palais des Sports Jean Weille\n",
            "Palais des Sports Maurice Thorez\n",
            "Palais des Sports, Orléans\n",
            "Palais des Sports, Paris\n",
            "Palais des Sports de Pau\n",
            "Palais des Sports de Toulon\n",
            "Toulouse\n",
            "Palais des Sports Léopold-Drolet\n",
            "Palais des Sports, Val d'Or\n",
            "Palais des Sports (Kallithea)\n",
            "Palais des Sports (Thessaloniki)\n",
            "Palais des Sports de Treichville\n",
            "Palais des Sports (Kintélé)\n",
            "Palace of Sports\n",
            "Palacio de los Deportes\n",
            "Palazzo dello Sport\n"
          ]
        }
      ]
    }
  ]
}